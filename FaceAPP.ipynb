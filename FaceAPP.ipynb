{
 "cells": [
  {
   "cell_type": "code",
   "execution_count": 1,
   "id": "3cf35529",
   "metadata": {},
   "outputs": [],
   "source": [
    "import dlib\n",
    "from PIL import Image, ImageOps\n",
    "import face_recognition\n",
    "import numpy as np\n",
    "from PIL import Image\n",
    "from matplotlib import pyplot as plt\n",
    "import cv2\n",
    "import os\n",
    "import cv2 as cv\n",
    "import numpy as np\n",
    "from PIL import Image\n",
    "\n",
    "TOLERANCE = 0.320\n",
    "MODEL1 = \"hog\"\n",
    "#MODEL2 = \"cnn\""
   ]
  },
  {
   "cell_type": "code",
   "execution_count": 2,
   "id": "df78c85d",
   "metadata": {},
   "outputs": [],
   "source": [
    "knownfaces_dir = \"known_faces\"\n",
    "FRAME_THICKNESS = 3\n",
    "FONT_THICKNESS=2\n",
    "known_faces = []\n",
    "knwon_names = []"
   ]
  },
  {
   "cell_type": "code",
   "execution_count": 3,
   "id": "753102f1",
   "metadata": {},
   "outputs": [],
   "source": [
    "def crop_image(im,face_location):\n",
    "    img = Image.fromarray(im, 'RGB')\n",
    "    img_cropped = img.crop((face_location[0][3]-50, face_location[0][0]-50, face_location[0][1]+50, face_location[0][2]+50)) \n",
    "    image=np.asarray(img_cropped)\n",
    "    return image"
   ]
  },
  {
   "cell_type": "code",
   "execution_count": 6,
   "id": "8d782239",
   "metadata": {},
   "outputs": [
    {
     "name": "stdout",
     "output_type": "stream",
     "text": [
      "loading known faces\n",
      "known_faces/IRANKUNDA/xavier1.jpg\n",
      "known_faces/IRANKUNDA/xavier1394.jpg\n",
      "known_faces/IRANKUNDA/xavier1515.jpg\n",
      "known_faces/IRANKUNDA/xavier43.jpg\n",
      "known_faces/IRANKUNDA/xavier745.jpg\n",
      "known_faces/IRANKUNDA/xavier924.jpg\n",
      "known_faces/JANVIER/jan3.jpg\n",
      "known_faces/JANVIER/janvier1025.jpg\n",
      "known_faces/JANVIER/janvier1403.jpg\n",
      "known_faces/JANVIER/janvier1416.jpg\n",
      "known_faces/JANVIER/janvier45.jpg\n",
      "known_faces/JANVIER/janvier77.jpg\n",
      "known_faces/JANVIER/janvier91.jpg\n",
      "known_faces/JANVIER/janvier993.jpg\n"
     ]
    }
   ],
   "source": [
    "def read_known_images():\n",
    "    print(\"loading known faces\")\n",
    "    for name in os.listdir(knownfaces_dir):\n",
    "        for filename in os.listdir(knownfaces_dir+\"/\"+name): #join\n",
    "            image = face_recognition.load_image_file(knownfaces_dir+\"/\"+name+\"/\"+filename)\n",
    "            locations = face_recognition.face_locations(image,model=MODEL1)\n",
    "            print(knownfaces_dir+\"/\"+name+\"/\"+filename)\n",
    "            encoding = face_recognition.face_encodings(crop_image(image,locations))\n",
    "            known_faces.append(encoding[0])\n",
    "            knwon_names.append(name)\n",
    "read_known_images()"
   ]
  },
  {
   "cell_type": "code",
   "execution_count": 7,
   "id": "74956947",
   "metadata": {},
   "outputs": [],
   "source": [
    "def read_camera(image):\n",
    "    #Image resizing\n",
    "    \"\"\"\"image=Image.fromarray(image)\n",
    "    image=image.resize((300,250))\n",
    "    image=np.asarray(image)\"\"\"\n",
    "    locations = face_recognition.face_locations(image,model=MODEL1)\n",
    "    if len(locations)>0:\n",
    "        encodings = face_recognition.face_encodings(image,locations)\n",
    "\n",
    "        for face_encodings,face_location in zip(encodings, locations):\n",
    "            results =face_recognition.compare_faces(known_faces,face_encodings,TOLERANCE)\n",
    "            match = None\n",
    "            if True in results:\n",
    "                match= knwon_names[results.index(True)]\n",
    "                print(f\"Found: {match}\")\n",
    "                top_left = (face_location[3],face_location[0])\n",
    "                bottom_right = (face_location[1],face_location[2])\n",
    "                color = [0,255,0]\n",
    "                cv2.rectangle(image,top_left,bottom_right,color,FRAME_THICKNESS)\n",
    "\n",
    "                top_left = (face_location[3],face_location[2])\n",
    "                bottom_right = (face_location[1],face_location[2]+22)\n",
    "                cv2.rectangle(image,top_left,bottom_right,color,FRAME_THICKNESS)\n",
    "                cv2.putText(image,match,(face_location[3]+10,face_location[2]+15),\n",
    "                            cv2.FONT_HERSHEY_SIMPLEX,0.5,(200,200,200),FONT_THICKNESS)\n",
    "    cv2.imshow(\"output\",image)\n",
    "    cv2.waitKey(1)"
   ]
  },
  {
   "cell_type": "code",
   "execution_count": null,
   "id": "5bb71e83",
   "metadata": {},
   "outputs": [
    {
     "name": "stdout",
     "output_type": "stream",
     "text": [
      "Found: JANVIER\n",
      "Found: JANVIER\n",
      "Found: JANVIER\n",
      "Found: JANVIER\n",
      "Found: JANVIER\n",
      "Found: JANVIER\n",
      "Found: JANVIER\n",
      "Found: JANVIER\n",
      "Found: JANVIER\n",
      "Found: JANVIER\n",
      "Found: JANVIER\n",
      "Found: JANVIER\n",
      "Found: JANVIER\n",
      "Found: JANVIER\n",
      "Found: JANVIER\n",
      "Found: JANVIER\n",
      "Found: JANVIER\n",
      "Found: JANVIER\n",
      "Found: JANVIER\n",
      "Found: JANVIER\n",
      "Found: JANVIER\n",
      "Found: JANVIER\n",
      "Found: JANVIER\n",
      "Found: JANVIER\n",
      "Found: JANVIER\n",
      "Found: JANVIER\n",
      "Found: JANVIER\n",
      "Found: JANVIER\n",
      "Found: JANVIER\n",
      "Found: JANVIER\n",
      "Found: JANVIER\n",
      "Found: JANVIER\n",
      "Found: JANVIER\n",
      "Found: JANVIER\n",
      "Found: JANVIER\n",
      "Found: JANVIER\n",
      "Found: JANVIER\n",
      "Found: JANVIER\n",
      "Found: JANVIER\n",
      "Found: JANVIER\n",
      "Found: JANVIER\n",
      "Found: JANVIER\n",
      "Found: JANVIER\n",
      "Found: JANVIER\n",
      "Found: JANVIER\n",
      "Found: JANVIER\n",
      "Found: JANVIER\n",
      "Found: JANVIER\n",
      "Found: JANVIER\n"
     ]
    }
   ],
   "source": [
    "cap = cv.VideoCapture(0)\n",
    "color = (0, 0, 255)\n",
    "i=1\n",
    "while(cap.isOpened()):\n",
    "    ret, first_frame = cap.read()\n",
    "    read_camera(first_frame)\n",
    "    if cv.waitKey(10) & 0xFF == ord('q'):\n",
    "        break\n",
    "cap.release()\n",
    "cv.destroyAllWindows()"
   ]
  },
  {
   "cell_type": "code",
   "execution_count": null,
   "id": "8c400f39",
   "metadata": {},
   "outputs": [],
   "source": []
  }
 ],
 "metadata": {
  "kernelspec": {
   "display_name": "Python 3",
   "language": "python",
   "name": "python3"
  },
  "language_info": {
   "codemirror_mode": {
    "name": "ipython",
    "version": 3
   },
   "file_extension": ".py",
   "mimetype": "text/x-python",
   "name": "python",
   "nbconvert_exporter": "python",
   "pygments_lexer": "ipython3",
   "version": "3.9.6"
  }
 },
 "nbformat": 4,
 "nbformat_minor": 5
}
